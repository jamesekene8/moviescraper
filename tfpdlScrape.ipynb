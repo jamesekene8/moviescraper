{
 "cells": [
  {
   "cell_type": "code",
   "execution_count": 21,
   "metadata": {},
   "outputs": [],
   "source": [
    "import requests\n",
    "from bs4 import BeautifulSoup\n",
    "movieDict = {}"
   ]
  },
  {
   "cell_type": "code",
   "execution_count": 22,
   "metadata": {},
   "outputs": [],
   "source": [
    "for pages in range(1, 60):\n",
    "    mySite = requests.get(f'https://www.tfp.is/category/feature-movies/page/{pages}/')\n",
    "    bSite = BeautifulSoup(mySite.text, 'lxml')\n",
    "    Csite = bSite.find_all('div', class_=\"post-listing\")[0]\n",
    "    for x in range(1,9):\n",
    "        movieList = Csite.find_all('article', class_=f\"item-list item_{x}\")[0]\n",
    "        movieTitle = movieList.find_all('h2', class_=\"post-title\")[0].text\n",
    "        movieFLink = movieList.find_all('h2', class_=\"post-title\")[0].find_all('a')[0]['href']\n",
    "        movieDict[movieTitle] = movieFLink "
   ]
  },
  {
   "cell_type": "code",
   "execution_count": 26,
   "metadata": {},
   "outputs": [
    {
     "name": "stdin",
     "output_type": "stream",
     "text": [
      "Give me a movie name:  Gun\n"
     ]
    },
    {
     "name": "stdout",
     "output_type": "stream",
     "text": [
      "The movie name is: Top Gun 1986 720p BluRay x264-TFPDL\n",
      "The movie link is: https://www.tfp.is/top-gun-1986-720p-bluray-x264-tfpdl/\n",
      "The movie name is: The Old Man And The Gun 2018 720p BluRay x264-TFPDL\n",
      "The movie link is: https://www.tfp.is/the-old-man-and-the-gun-2018-720p-bluray-x264-tfpdl/\n"
     ]
    }
   ],
   "source": [
    "movieName = input('Give me a movie name: ')\n",
    "for indMovie in movieDict:\n",
    "    if movieName in indMovie:\n",
    "        print(f\"The movie name is: {indMovie}\")\n",
    "        print(f\"The movie link is: {movieDict[indMovie]}\")"
   ]
  },
  {
   "cell_type": "code",
   "execution_count": null,
   "metadata": {},
   "outputs": [],
   "source": []
  },
  {
   "cell_type": "code",
   "execution_count": null,
   "metadata": {},
   "outputs": [],
   "source": []
  }
 ],
 "metadata": {
  "kernelspec": {
   "display_name": "Python 3",
   "language": "python",
   "name": "python3"
  },
  "language_info": {
   "codemirror_mode": {
    "name": "ipython",
    "version": 3
   },
   "file_extension": ".py",
   "mimetype": "text/x-python",
   "name": "python",
   "nbconvert_exporter": "python",
   "pygments_lexer": "ipython3",
   "version": "3.7.6"
  }
 },
 "nbformat": 4,
 "nbformat_minor": 4
}
